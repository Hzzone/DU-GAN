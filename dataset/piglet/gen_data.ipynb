{
 "cells": [
  {
   "cell_type": "code",
   "execution_count": 1,
   "metadata": {
    "collapsed": true,
    "pycharm": {
     "is_executing": false
    }
   },
   "outputs": [],
   "source": [
    "import torch\n",
    "import os\n",
    "import os.path as osp\n",
    "import numpy as np\n",
    "import tqdm\n",
    "import pandas as pd\n",
    "from pydicom import dcmread"
   ]
  },
  {
   "cell_type": "code",
   "execution_count": 2,
   "metadata": {
    "pycharm": {
     "is_executing": false
    }
   },
   "outputs": [],
   "source": [
    "threshold = 0.75\n",
    "stride = 32\n",
    "patch_size = 64\n",
    "save_root = '/home/zzhuang/Codes/denoising/dataset/piglet'\n",
    "\n",
    "def crop(ds):\n",
    "    patches = []\n",
    "    for left in range(0, ds.shape[0] - patch_size + 1, stride):\n",
    "        for top in range(0, ds.shape[1] - patch_size + 1, stride):\n",
    "            patches.append(ds[left: left + patch_size, top: top + patch_size])\n",
    "    return patches\n",
    "\n",
    "fulldose_root = '/home/zzhuang/DATASET/CT/piglet_share/DICOM/PA0/ST0/SE4'\n",
    "# 25%\n",
    "# lowdose_root = '/home/zzhuang/DATASET/CT/piglet_share/DICOM/PA0/ST0/SE14'\n",
    "\n",
    "# 5%\n",
    "lowdose_root = '/home/zzhuang/DATASET/CT/piglet_share/DICOM/PA0/ST0/SE24'\n",
    "\n",
    "test_indices = np.array(list(range(21, 871, 6)))\n",
    "train_indices = np.array([x for x in range(21, 871) if x not in test_indices])\n",
    "all_indices = {'train': train_indices, 'test': test_indices}"
   ]
  },
  {
   "cell_type": "code",
   "execution_count": 3,
   "outputs": [
    {
     "name": "stderr",
     "text": [
      "\r  0%|          | 0/708 [00:00<?, ?it/s]",
      "\r  1%|▏         | 9/708 [00:00<00:08, 80.56it/s]",
      "\r  3%|▎         | 18/708 [00:00<00:08, 80.77it/s]",
      "\r  4%|▎         | 26/708 [00:00<00:08, 79.49it/s]",
      "\r  5%|▍         | 34/708 [00:00<00:08, 79.58it/s]",
      "\r  6%|▌         | 42/708 [00:00<00:08, 78.51it/s]",
      "\r  7%|▋         | 50/708 [00:00<00:08, 77.60it/s]",
      "\r  8%|▊         | 58/708 [00:00<00:08, 77.34it/s]",
      "\r  9%|▉         | 66/708 [00:00<00:08, 76.91it/s]",
      "\r 10%|█         | 74/708 [00:00<00:08, 76.21it/s]",
      "\r 12%|█▏        | 82/708 [00:01<00:08, 75.85it/s]",
      "\r 13%|█▎        | 90/708 [00:01<00:08, 75.89it/s]",
      "\r 14%|█▍        | 98/708 [00:01<00:07, 76.26it/s]",
      "\r 15%|█▍        | 106/708 [00:01<00:07, 77.21it/s]",
      "\r 16%|█▌        | 114/708 [00:01<00:07, 77.41it/s]",
      "\r 17%|█▋        | 122/708 [00:01<00:07, 76.76it/s]",
      "\r 18%|█▊        | 130/708 [00:01<00:07, 76.94it/s]",
      "\r 19%|█▉        | 138/708 [00:01<00:07, 77.11it/s]",
      "\r 21%|██        | 146/708 [00:01<00:07, 76.08it/s]",
      "\r 22%|██▏       | 154/708 [00:02<00:07, 74.74it/s]",
      "\r 23%|██▎       | 162/708 [00:02<00:07, 73.19it/s]",
      "\r 24%|██▍       | 170/708 [00:02<00:07, 73.03it/s]",
      "\r 25%|██▌       | 178/708 [00:02<00:08, 64.72it/s]",
      "\r 26%|██▌       | 185/708 [00:02<00:11, 47.45it/s]",
      "\r 27%|██▋       | 191/708 [00:02<00:10, 49.84it/s]",
      "\r 28%|██▊       | 197/708 [00:02<00:09, 51.12it/s]",
      "\r 29%|██▊       | 203/708 [00:02<00:09, 52.84it/s]",
      "\r 30%|██▉       | 211/708 [00:03<00:08, 57.26it/s]",
      "\r 31%|███       | 219/708 [00:03<00:08, 60.86it/s]",
      "\r 32%|███▏      | 227/708 [00:03<00:07, 63.87it/s]",
      "\r 33%|███▎      | 234/708 [00:03<00:07, 63.05it/s]",
      "\r 34%|███▍      | 241/708 [00:03<00:07, 64.58it/s]",
      "\r 35%|███▌      | 249/708 [00:03<00:06, 66.47it/s]",
      "\r 36%|███▌      | 256/708 [00:03<00:06, 67.47it/s]",
      "\r 37%|███▋      | 263/708 [00:03<00:06, 67.55it/s]",
      "\r 38%|███▊      | 270/708 [00:03<00:06, 67.93it/s]",
      "\r 39%|███▉      | 277/708 [00:04<00:06, 67.54it/s]",
      "\r 40%|████      | 285/708 [00:04<00:06, 68.66it/s]",
      "\r 41%|████▏     | 293/708 [00:04<00:06, 68.36it/s]",
      "\r 42%|████▏     | 300/708 [00:04<00:05, 68.48it/s]",
      "\r 44%|████▎     | 308/708 [00:04<00:05, 69.88it/s]",
      "\r 45%|████▍     | 316/708 [00:04<00:05, 70.76it/s]",
      "\r 46%|████▌     | 324/708 [00:04<00:05, 69.18it/s]",
      "\r 47%|████▋     | 331/708 [00:04<00:05, 68.64it/s]",
      "\r 48%|████▊     | 339/708 [00:04<00:05, 69.58it/s]",
      "\r 49%|████▉     | 347/708 [00:05<00:05, 70.15it/s]",
      "\r 50%|█████     | 355/708 [00:05<00:04, 71.51it/s]",
      "\r 51%|█████▏    | 363/708 [00:05<00:04, 71.21it/s]",
      "\r 52%|█████▏    | 371/708 [00:05<00:04, 70.92it/s]",
      "\r 54%|█████▎    | 379/708 [00:05<00:04, 69.66it/s]",
      "\r 55%|█████▍    | 386/708 [00:05<00:04, 69.41it/s]",
      "\r 56%|█████▌    | 393/708 [00:05<00:04, 69.31it/s]",
      "\r 56%|█████▋    | 400/708 [00:05<00:04, 68.85it/s]",
      "\r 57%|█████▋    | 407/708 [00:05<00:04, 69.05it/s]",
      "\r 58%|█████▊    | 414/708 [00:05<00:04, 69.01it/s]",
      "\r 59%|█████▉    | 421/708 [00:06<00:04, 68.95it/s]",
      "\r 61%|██████    | 429/708 [00:06<00:04, 69.13it/s]",
      "\r 62%|██████▏   | 436/708 [00:06<00:03, 68.80it/s]",
      "\r 63%|██████▎   | 443/708 [00:06<00:03, 68.63it/s]",
      "\r 64%|██████▎   | 450/708 [00:06<00:03, 68.70it/s]",
      "\r 65%|██████▍   | 457/708 [00:06<00:03, 67.08it/s]",
      "\r 66%|██████▌   | 464/708 [00:06<00:03, 67.22it/s]",
      "\r 67%|██████▋   | 471/708 [00:06<00:03, 67.27it/s]",
      "\r 68%|██████▊   | 478/708 [00:06<00:03, 66.50it/s]",
      "\r 69%|██████▊   | 485/708 [00:07<00:03, 67.23it/s]",
      "\r 69%|██████▉   | 492/708 [00:07<00:03, 67.94it/s]",
      "\r 70%|███████   | 499/708 [00:07<00:03, 67.43it/s]",
      "\r 71%|███████▏  | 506/708 [00:07<00:03, 66.49it/s]",
      "\r 72%|███████▏  | 513/708 [00:07<00:05, 36.90it/s]",
      "\r 73%|███████▎  | 520/708 [00:07<00:04, 42.55it/s]",
      "\r 74%|███████▍  | 527/708 [00:07<00:03, 48.09it/s]",
      "\r 76%|███████▌  | 535/708 [00:08<00:03, 53.28it/s]",
      "\r 77%|███████▋  | 542/708 [00:08<00:02, 56.60it/s]",
      "\r 78%|███████▊  | 549/708 [00:08<00:02, 59.89it/s]",
      "\r 79%|███████▊  | 556/708 [00:08<00:02, 62.43it/s]",
      "\r 80%|███████▉  | 563/708 [00:08<00:02, 64.21it/s]",
      "\r 81%|████████  | 571/708 [00:08<00:02, 65.98it/s]",
      "\r 82%|████████▏ | 578/708 [00:08<00:01, 66.62it/s]",
      "\r 83%|████████▎ | 585/708 [00:08<00:01, 67.27it/s]",
      "\r 84%|████████▎ | 592/708 [00:08<00:01, 67.58it/s]",
      "\r 85%|████████▍ | 599/708 [00:08<00:01, 67.30it/s]",
      "\r 86%|████████▌ | 607/708 [00:09<00:01, 68.37it/s]",
      "\r 87%|████████▋ | 615/708 [00:09<00:01, 69.46it/s]",
      "\r 88%|████████▊ | 623/708 [00:09<00:01, 70.28it/s]",
      "\r 89%|████████▉ | 631/708 [00:09<00:01, 70.92it/s]",
      "\r 90%|█████████ | 639/708 [00:09<00:00, 71.95it/s]",
      "\r 91%|█████████▏| 647/708 [00:09<00:00, 71.57it/s]",
      "\r 93%|█████████▎| 655/708 [00:09<00:00, 72.43it/s]",
      "\r 94%|█████████▎| 663/708 [00:09<00:00, 73.82it/s]",
      "\r 95%|█████████▍| 671/708 [00:09<00:00, 73.22it/s]",
      "\r 96%|█████████▌| 679/708 [00:10<00:00, 72.90it/s]",
      "\r 97%|█████████▋| 687/708 [00:10<00:00, 74.53it/s]",
      "\r 98%|█████████▊| 696/708 [00:10<00:00, 76.10it/s]",
      "\r100%|█████████▉| 705/708 [00:10<00:00, 77.81it/s]",
      "\r100%|██████████| 708/708 [00:10<00:00, 67.74it/s]",
      "\n",
      "\r  0%|          | 0/142 [00:00<?, ?it/s]",
      "\r  6%|▌         | 8/142 [00:00<00:01, 76.79it/s]",
      "\r 11%|█▏        | 16/142 [00:00<00:01, 77.09it/s]",
      "\r 17%|█▋        | 24/142 [00:00<00:01, 77.58it/s]",
      "\r 23%|██▎       | 32/142 [00:00<00:01, 77.79it/s]",
      "\r 28%|██▊       | 40/142 [00:00<00:01, 76.69it/s]",
      "\r 34%|███▍      | 48/142 [00:00<00:01, 75.73it/s]",
      "\r 39%|███▉      | 56/142 [00:00<00:01, 75.30it/s]",
      "\r 45%|████▌     | 64/142 [00:00<00:01, 73.92it/s]",
      "\r 51%|█████     | 72/142 [00:00<00:00, 73.85it/s]",
      "\r 56%|█████▋    | 80/142 [00:01<00:00, 74.14it/s]",
      "\r 62%|██████▏   | 88/142 [00:01<00:00, 73.23it/s]",
      "\r 68%|██████▊   | 96/142 [00:01<00:00, 73.52it/s]",
      "\r 73%|███████▎  | 104/142 [00:01<00:00, 73.43it/s]",
      "\r 79%|███████▉  | 112/142 [00:01<00:00, 72.41it/s]",
      "\r 85%|████████▍ | 120/142 [00:01<00:00, 71.43it/s]",
      "\r 90%|█████████ | 128/142 [00:01<00:00, 72.63it/s]",
      "\r 96%|█████████▌| 136/142 [00:01<00:00, 73.66it/s]",
      "\r100%|██████████| 142/142 [00:01<00:00, 74.49it/s]",
      "\n"
     ],
     "output_type": "stream"
    },
    {
     "name": "stdout",
     "text": [
      "save data...\n",
      "save data...\n"
     ],
     "output_type": "stream"
    }
   ],
   "source": [
    "def get_file_list(path):\n",
    "    file_list = []\n",
    "    name_list = []\n",
    "    for name in sorted(os.listdir(path)):\n",
    "        file_list.append(osp.join(path, name))\n",
    "        name_list.append(int(name.strip('IM')))\n",
    "    file_list = np.array(file_list)\n",
    "    name_list = np.array(name_list)\n",
    "    file_list = file_list[np.argsort(name_list)]\n",
    "    return file_list\n",
    "fulldose_ct_list = get_file_list(fulldose_root)\n",
    "lowdose_ct_list = get_file_list(lowdose_root)\n",
    "# C021, C120 ...\n",
    "for phase in ['train', 'test']:\n",
    "# for phase in ['test']:\n",
    "    indices = all_indices[phase]\n",
    "    patches = []\n",
    "    phase_fulldose_ct_list, phase_lowdose_ct_list = fulldose_ct_list[indices], lowdose_ct_list[indices]\n",
    "    for i in tqdm.trange(len(phase_fulldose_ct_list)):\n",
    "        a, b = phase_fulldose_ct_list[i], phase_lowdose_ct_list[i]\n",
    "        f_ps = crop(dcmread(a).pixel_array.astype(np.float32))\n",
    "        l_ps = crop(dcmread(b).pixel_array.astype(np.float32))\n",
    "        for k in range(len(f_ps)):\n",
    "            black_percent = np.mean(np.clip(f_ps[k] - 1024, -500, 500) == -500)\n",
    "            if black_percent < threshold:\n",
    "                patches.append(np.array([l_ps[k], f_ps[k]]))\n",
    "    patches = np.array(patches).reshape((-1, 2, 1, patch_size, patch_size)).transpose((1, 0, 2, 3, 4))\n",
    "    print('save data...')\n",
    "    np.save(osp.join(save_root, '{}_{}'.format(phase, patch_size)), patches.astype(np.uint16))\n"
   ],
   "metadata": {
    "collapsed": false,
    "pycharm": {
     "name": "#%%\n",
     "is_executing": false
    }
   }
  },
  {
   "cell_type": "code",
   "execution_count": 4,
   "outputs": [
    {
     "data": {
      "text/plain": "(2, 12023, 1, 64, 64)"
     },
     "metadata": {},
     "output_type": "execute_result",
     "execution_count": 4
    }
   ],
   "source": [
    "patches.shape"
   ],
   "metadata": {
    "collapsed": false,
    "pycharm": {
     "name": "#%%\n",
     "is_executing": false
    }
   }
  },
  {
   "cell_type": "code",
   "execution_count": 11,
   "outputs": [
    {
     "data": {
      "text/plain": "<matplotlib.image.AxesImage at 0x7f98450f1e90>"
     },
     "metadata": {},
     "output_type": "execute_result",
     "execution_count": 11
    },
    {
     "data": {
      "text/plain": "<Figure size 432x288 with 1 Axes>",
      "image/png": "[encoded data removed]"
     },
     "metadata": {
      "needs_background": "light"
     },
     "output_type": "display_data"
    }
   ],
   "source": [
    "import matplotlib.pyplot as plt\n",
    "index = 0\n",
    "plt.imshow(np.clip(patches[0, index, 0] - 1024, -300, 300))"
   ],
   "metadata": {
    "collapsed": false,
    "pycharm": {
     "name": "#%%\n",
     "is_executing": false
    }
   }
  },
  {
   "cell_type": "code",
   "execution_count": 12,
   "outputs": [
    {
     "data": {
      "text/plain": "<matplotlib.image.AxesImage at 0x7f98450ea3d0>"
     },
     "metadata": {},
     "output_type": "execute_result",
     "execution_count": 12
    },
    {
     "data": {
      "text/plain": "<Figure size 432x288 with 1 Axes>",
      "image/png": "[encoded data removed]"
     },
     "metadata": {
      "needs_background": "light"
     },
     "output_type": "display_data"
    }
   ],
   "source": [
    "plt.imshow(np.clip(patches[1, index, 0] - 1024, -300, 300))"
   ],
   "metadata": {
    "collapsed": false,
    "pycharm": {
     "name": "#%%\n",
     "is_executing": false
    }
   }
  },
  {
   "cell_type": "code",
   "execution_count": 9,
   "outputs": [
    {
     "name": "stderr",
     "text": [
      "\r  0%|          | 0/708 [00:00<?, ?it/s]",
      "\r  3%|▎         | 20/708 [00:00<00:03, 191.88it/s]",
      "\r  6%|▌         | 43/708 [00:00<00:03, 201.77it/s]",
      "\r  9%|▉         | 67/708 [00:00<00:03, 210.04it/s]",
      "\r 13%|█▎        | 93/708 [00:00<00:02, 221.17it/s]",
      "\r 17%|█▋        | 118/708 [00:00<00:02, 226.73it/s]",
      "\r 20%|██        | 142/708 [00:00<00:02, 230.24it/s]",
      "\r 23%|██▎       | 166/708 [00:00<00:02, 230.48it/s]",
      "\r 27%|██▋       | 190/708 [00:00<00:02, 231.42it/s]",
      "\r 30%|███       | 214/708 [00:00<00:02, 232.22it/s]",
      "\r 33%|███▎      | 237/708 [00:01<00:02, 231.09it/s]",
      "\r 37%|███▋      | 262/708 [00:01<00:01, 234.61it/s]",
      "\r 40%|████      | 286/708 [00:01<00:01, 234.43it/s]",
      "\r 44%|████▍     | 310/708 [00:01<00:01, 234.61it/s]",
      "\r 47%|████▋     | 334/708 [00:01<00:01, 231.81it/s]",
      "\r 51%|█████     | 360/708 [00:01<00:01, 237.03it/s]",
      "\r 54%|█████▍    | 384/708 [00:01<00:01, 230.44it/s]",
      "\r 58%|█████▊    | 408/708 [00:01<00:01, 231.36it/s]",
      "\r 61%|██████    | 432/708 [00:01<00:01, 232.64it/s]",
      "\r 64%|██████▍   | 456/708 [00:01<00:01, 233.20it/s]",
      "\r 68%|██████▊   | 480/708 [00:02<00:01, 227.33it/s]",
      "\r 71%|███████   | 504/708 [00:02<00:00, 228.52it/s]",
      "\r 74%|███████▍  | 527/708 [00:02<00:00, 228.59it/s]",
      "\r 78%|███████▊  | 550/708 [00:02<00:00, 228.21it/s]",
      "\r 81%|████████  | 574/708 [00:02<00:00, 229.29it/s]",
      "\r 84%|████████▍ | 597/708 [00:02<00:00, 229.03it/s]",
      "\r 88%|████████▊ | 620/708 [00:02<00:00, 227.28it/s]",
      "\r 91%|█████████ | 643/708 [00:02<00:00, 227.25it/s]",
      "\r 94%|█████████▍| 668/708 [00:02<00:00, 233.35it/s]",
      "\r 98%|█████████▊| 692/708 [00:02<00:00, 228.14it/s]",
      "\r100%|██████████| 708/708 [00:03<00:00, 230.81it/s]",
      "\n",
      "\r  0%|          | 0/142 [00:00<?, ?it/s]",
      "\r 13%|█▎        | 19/142 [00:00<00:00, 187.58it/s]",
      "\r 27%|██▋       | 39/142 [00:00<00:00, 190.55it/s]",
      "\r 41%|████      | 58/142 [00:00<00:00, 189.81it/s]",
      "\r 54%|█████▍    | 77/142 [00:00<00:00, 188.96it/s]",
      "\r 68%|██████▊   | 97/142 [00:00<00:00, 191.06it/s]",
      "\r 85%|████████▍ | 120/142 [00:00<00:00, 201.27it/s]",
      "\r100%|██████████| 142/142 [00:00<00:00, 200.97it/s]",
      "\n"
     ],
     "output_type": "stream"
    },
    {
     "name": "stdout",
     "text": [
      "save data...\n",
      "save data...\n"
     ],
     "output_type": "stream"
    }
   ],
   "source": [
    "for phase in ['train', 'test']:\n",
    "# for phase in ['test']:\n",
    "    indices = all_indices[phase]\n",
    "    patches = []\n",
    "    phase_fulldose_ct_list, phase_lowdose_ct_list = fulldose_ct_list[indices], lowdose_ct_list[indices]\n",
    "    for i in tqdm.trange(len(phase_fulldose_ct_list)):\n",
    "        a, b = phase_fulldose_ct_list[i], phase_lowdose_ct_list[i]\n",
    "        f_ps = dcmread(a).pixel_array\n",
    "        l_ps = dcmread(b).pixel_array\n",
    "        patches.append(np.array([l_ps, f_ps]))\n",
    "    patches = np.array(patches).reshape((-1, 2, 1, f_ps.shape[0], f_ps.shape[1])).transpose((1, 0, 2, 3, 4))\n",
    "    print('save data...')\n",
    "    np.save(osp.join(save_root, '{}_{}'.format(phase, 512)), patches.astype(np.uint16))"
   ],
   "metadata": {
    "collapsed": false,
    "pycharm": {
     "name": "#%%\n",
     "is_executing": false
    }
   }
  },
  {
   "cell_type": "code",
   "execution_count": 10,
   "outputs": [
    {
     "data": {
      "text/plain": "(2, 142, 1, 512, 512)"
     },
     "metadata": {},
     "output_type": "execute_result",
     "execution_count": 10
    }
   ],
   "source": [
    "patches.shape"
   ],
   "metadata": {
    "collapsed": false,
    "pycharm": {
     "name": "#%%\n",
     "is_executing": false
    }
   }
  },
  {
   "cell_type": "code",
   "execution_count": null,
   "outputs": [],
   "source": [
    "\n"
   ],
   "metadata": {
    "collapsed": false,
    "pycharm": {
     "name": "#%%\n"
    }
   }
  }
 ],
 "metadata": {
  "kernelspec": {
   "display_name": "Python 3",
   "language": "python",
   "name": "python3"
  },
  "language_info": {
   "codemirror_mode": {
    "name": "ipython",
    "version": 2
   },
   "file_extension": ".py",
   "mimetype": "text/x-python",
   "name": "python",
   "nbconvert_exporter": "python",
   "pygments_lexer": "ipython2",
   "version": "3.7.3-final"
  },
  "pycharm": {
   "stem_cell": {
    "cell_type": "raw",
    "source": [],
    "metadata": {
     "collapsed": false
    }
   }
  }
 },
 "nbformat": 4,
 "nbformat_minor": 0
}